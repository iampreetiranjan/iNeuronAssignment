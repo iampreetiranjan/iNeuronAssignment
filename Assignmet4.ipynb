{
 "cells": [
  {
   "cell_type": "code",
   "execution_count": 8,
   "metadata": {},
   "outputs": [],
   "source": [
    "#Question1\n",
    "class triangle:\n",
    "    def __init__(self):\n",
    "        self.side1 = int(input())\n",
    "        self.side2 = int(input())\n",
    "        self.side3 = int(input())\n",
    "    def area(self):\n",
    "        s= (self.side1+self.side2+self.side3)/2\n",
    "        area = (s*(s-self.side1)*(s-self.side2)*(s-self.side3)) ** 0.5\n",
    "        return area"
   ]
  },
  {
   "cell_type": "code",
   "execution_count": 9,
   "metadata": {},
   "outputs": [
    {
     "name": "stdout",
     "output_type": "stream",
     "text": [
      "4\n",
      "5\n",
      "3\n"
     ]
    }
   ],
   "source": [
    "t1 = triangle()"
   ]
  },
  {
   "cell_type": "code",
   "execution_count": 10,
   "metadata": {},
   "outputs": [
    {
     "data": {
      "text/plain": [
       "6.0"
      ]
     },
     "execution_count": 10,
     "metadata": {},
     "output_type": "execute_result"
    }
   ],
   "source": [
    "t1.area()"
   ]
  },
  {
   "cell_type": "code",
   "execution_count": 11,
   "metadata": {},
   "outputs": [
    {
     "name": "stdout",
     "output_type": "stream",
     "text": [
      "['rrrrr', 'tttttt']\n"
     ]
    }
   ],
   "source": [
    "#Question2\n",
    "def filter_long_words(inputlist,n):\n",
    "    outputList = []\n",
    "    ListLen = len(inputlist)\n",
    "    if ListLen != 0:\n",
    "        for i in range(ListLen):\n",
    "            if len(inputlist[i])>n:\n",
    "                outputList.append(inputlist[i])\n",
    "    else:\n",
    "        print(\"Please Pass a list with some element\")\n",
    "    return outputList\n",
    "\n",
    "ListInput = ['qq','www','eeee','rrrrr','tttttt']\n",
    "charlen = 4\n",
    "print(filter_long_words(ListInput,charlen))"
   ]
  },
  {
   "cell_type": "code",
   "execution_count": 12,
   "metadata": {},
   "outputs": [
    {
     "name": "stdout",
     "output_type": "stream",
     "text": [
      "[2, 3, 4]\n"
     ]
    }
   ],
   "source": [
    "#Question3\n",
    "def listWordsToInt(inputWordList):\n",
    "    return len(inputWordList)\n",
    "inputList = ['ab','cde','erty']\n",
    "print(list(map(listWordsToInt,inputList)))"
   ]
  },
  {
   "cell_type": "code",
   "execution_count": 14,
   "metadata": {},
   "outputs": [
    {
     "name": "stdout",
     "output_type": "stream",
     "text": [
      "True\n",
      "False\n",
      "True\n",
      "False\n"
     ]
    }
   ],
   "source": [
    "#Question4\n",
    "def vowelCheck(char):\n",
    "    vowel = ['A','E','I','O','U']\n",
    "    if len(char) == 1 and char.upper() in vowel:\n",
    "        return True\n",
    "    else:\n",
    "        return False\n",
    "\n",
    "print(vowelCheck('E'))\n",
    "print(vowelCheck('Z'))\n",
    "print(vowelCheck('a'))\n",
    "print(vowelCheck('q'))"
   ]
  },
  {
   "cell_type": "code",
   "execution_count": null,
   "metadata": {},
   "outputs": [],
   "source": []
  }
 ],
 "metadata": {
  "kernelspec": {
   "display_name": "Python 3",
   "language": "python",
   "name": "python3"
  },
  "language_info": {
   "codemirror_mode": {
    "name": "ipython",
    "version": 3
   },
   "file_extension": ".py",
   "mimetype": "text/x-python",
   "name": "python",
   "nbconvert_exporter": "python",
   "pygments_lexer": "ipython3",
   "version": "3.8.3"
  }
 },
 "nbformat": 4,
 "nbformat_minor": 4
}
