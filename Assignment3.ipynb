{
 "cells": [
  {
   "cell_type": "code",
   "execution_count": 7,
   "metadata": {},
   "outputs": [],
   "source": [
    "#Assignment 1.2#\n",
    "#==============================#\n",
    "def myFilter(function,seq):\n",
    "    seqLen = len(seq)\n",
    "    output = []\n",
    "    for i in range (0,seqLen):\n",
    "        if function(seq[i]) == True:\n",
    "            output.append(seq[i])\n",
    "    return output\n",
    "\n",
    "def fun(num): \n",
    "    if num%2 == 0: \n",
    "        return True\n",
    "    else: \n",
    "        return False\n",
    "def checkVowels(char):\n",
    "    vowelList = ['A','E','I','O','U']\n",
    "    if char.upper() in vowelList:\n",
    "        return True\n",
    "    else:\n",
    "        return False"
   ]
  },
  {
   "cell_type": "code",
   "execution_count": 9,
   "metadata": {},
   "outputs": [],
   "source": [
    "numList = [10,11,13,14,12,15,16,17]\n",
    "charList = ['a','A','b','B','c','C','E','e']"
   ]
  },
  {
   "cell_type": "code",
   "execution_count": 10,
   "metadata": {},
   "outputs": [
    {
     "name": "stdout",
     "output_type": "stream",
     "text": [
      "[10, 14, 12, 16]\n"
     ]
    }
   ],
   "source": [
    "print(myFilter(fun,numList))"
   ]
  },
  {
   "cell_type": "code",
   "execution_count": 11,
   "metadata": {},
   "outputs": [
    {
     "name": "stdout",
     "output_type": "stream",
     "text": [
      "['a', 'A', 'E', 'e']\n"
     ]
    }
   ],
   "source": [
    "print(myFilter(checkVowels,charList))"
   ]
  },
  {
   "cell_type": "code",
   "execution_count": null,
   "metadata": {},
   "outputs": [],
   "source": [
    "#assignment 1.1\n",
    "def myReduce(function,seq):\n",
    "    pass"
   ]
  }
 ],
 "metadata": {
  "kernelspec": {
   "display_name": "Python 3",
   "language": "python",
   "name": "python3"
  },
  "language_info": {
   "codemirror_mode": {
    "name": "ipython",
    "version": 3
   },
   "file_extension": ".py",
   "mimetype": "text/x-python",
   "name": "python",
   "nbconvert_exporter": "python",
   "pygments_lexer": "ipython3",
   "version": "3.8.3"
  }
 },
 "nbformat": 4,
 "nbformat_minor": 4
}
